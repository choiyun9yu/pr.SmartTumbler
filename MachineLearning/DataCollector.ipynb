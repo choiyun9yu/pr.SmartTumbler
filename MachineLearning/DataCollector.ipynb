{
 "cells": [
  {
   "attachments": {},
   "cell_type": "markdown",
   "id": "1c027288",
   "metadata": {},
   "source": [
    "# 각각의 센서 값들을 Flask 서버로 받아서 DB에 저장하는 코드\n",
    "## 수정일 : 2022. 08\n",
    "## 작성자 : 최윤규"
   ]
  },
  {
   "cell_type": "code",
   "execution_count": 8,
   "id": "81603eba",
   "metadata": {},
   "outputs": [
    {
     "name": "stdout",
     "output_type": "stream",
     "text": [
      " * Serving Flask app \"__main__\" (lazy loading)\n",
      " * Environment: production\n",
      "\u001B[31m   WARNING: This is a development server. Do not use it in a production deployment.\u001B[0m\n",
      "\u001B[2m   Use a production WSGI server instead.\u001B[0m\n",
      " * Debug mode: off\n"
     ]
    },
    {
     "name": "stderr",
     "output_type": "stream",
     "text": [
      " * Running on http://127.0.0.1:5000/ (Press CTRL+C to quit)\n",
      "127.0.0.1 - - [18/Jan/2023 00:45:51] \"GET / HTTP/1.1\" 200 -\n"
     ]
    }
   ],
   "source": [
    "# 모듈 삽입\n",
    "import time\n",
    "import pandas as pd\n",
    "import pymysql as ps\n",
    "from sqlalchemy import create_engine\n",
    "from flask import Flask, request, redirect, jsonify\n",
    "\n",
    "# 사용자 정의 함수 정의\n",
    "def con():\n",
    "    conn = ps.connect(host='localhost', user='root', passwd='12345', db='aqu4men')\n",
    "    return conn\n",
    "\n",
    "def insert_db(table, calumns, values):\n",
    "    conn = con()\n",
    "    curs = conn.cursor()\n",
    "    sql = f\"insert into {table} {calumns} values {values};\"\n",
    "    curs.execute(sql)\n",
    "    conn.commit()\n",
    "    curs.close()\n",
    "    conn.close()\n",
    "    return sql\n",
    "\n",
    "def select_db(calumn,table, where):\n",
    "    conn = con()\n",
    "    curs = conn.cursor()\n",
    "    sql = f\"selet {calumn} from {table} where {where} \"\n",
    "    curs.execute(sql)\n",
    "    result = curs.fetchall()\n",
    "    print(result)\n",
    "    curs.close()\n",
    "    conn.close()\n",
    "    return sql\n",
    "\n",
    "\n",
    "# 플라스크 서버 코드\n",
    "app = Flask(__name__)\n",
    "\n",
    "@app.route('/')\n",
    "def index():\n",
    "    return 'main page'\n",
    "    \n",
    "# 로드셀 무게센서 데이터 수집 및 데이터베이스 저장 코드\n",
    "@app.route('/insert/loadcell', methods=['GET'])\n",
    "def insert_loadcell():\n",
    "    read = \"can not read\"\n",
    "    if request.method == 'GET':\n",
    "        request.get_json()\n",
    "        read = request.args['loadcell']\n",
    "        print('sensing data : ',read)\n",
    "        conn = con()\n",
    "        curs = conn.cursor()\n",
    "        sql = f'select weight, wv_time from t_coasters where {id} = user_no order by wv_time desc limit 1'\n",
    "        curs.execute(sql)\n",
    "        result = curs.fetchall()\n",
    "        coasters=result[0][0]\n",
    "        if abs(int(coasters) - int(read))>30:\n",
    "            table = 't_coasters'\n",
    "            print('table :',table)\n",
    "            calumns= '(coaster_seq, user_no, wv_time, weight)'\n",
    "            print('calumns :',calumns)\n",
    "            values = f'(\"productID\", \"1\", now(), {int(read)})'\n",
    "            print('values :',values)\n",
    "            sql=insert_db(table, calumns, values)\n",
    "            print(sql)\n",
    "            return \"value of loadcell is %s\" %read \n",
    "    else:\n",
    "        return read\n",
    "    \n",
    "# 가속도 센서 데이터 수집 및 데이터베이스 저장 코드\n",
    "@app.route('/insert/mpu', methods=['GET'])\n",
    "def insert_mpu():\n",
    "    read = \"can not read\"\n",
    "    if request.method == 'GET':\n",
    "        request.get_json()\n",
    "        # T,Label = request.args['T'],request.args['Label']\n",
    "        t, label = 3,150\n",
    "        table = 't_cupholder'\n",
    "        x1,y1,x2,y2,x3,y3,x4,y4,x5,y5,x6,y6,x7,y7,x8,y8,x9,y9,x10,y10 = request.args['x1'],request.args['y1'],request.args['x2'],\\\n",
    "request.args['y2'],request.args['x3'],request.args['y3'],request.args['x4'],request.args['y4'],request.args['x5'],\\\n",
    "request.args['y5'],request.args['x6'],request.args['y6'],request.args['x7'],request.args['y7'],request.args['x8'],\\\n",
    "request.args['y8'],request.args['x9'],request.args['y9'],request.args['x10'],request.args['y10']\n",
    "        x11,y11,x12,y12,x13,y13,x14,y14,x15,y15,x16,y16,x17,y17,x18,y18,x19,y19,x20,y20 = request.args['x11'],request.args['y11'],\\\n",
    "request.args['x12'],request.args['y12'],request.args['x13'],request.args['y13'],request.args['x14'],request.args['y14'],\\\n",
    "request.args['x15'],request.args['y15'],request.args['x16'],request.args['y16'],request.args['x17'],request.args['y17'],\\\n",
    "request.args['x18'],request.args['y18'],request.args['x19'],request.args['y19'],request.args['x20'],request.args['y20']\n",
    "        x21,y21,x22,y22,x23,y23,x24,y24,x25,y25,x26,y26,x27,y27,x28,y28,x29,y29,x30,y30 = request.args['x21'],request.args['y21'],\\\n",
    "request.args['x22'],request.args['y22'],request.args['x23'],request.args['y23'],request.args['x24'],request.args['y24'],\\\n",
    "request.args['x25'],request.args['y25'],request.args['x26'],request.args['y26'],request.args['x27'],request.args['y27'],\\\n",
    "request.args['x28'],request.args['y28'],request.args['x29'],request.args['y29'],request.args['x30'],request.args['y30']\n",
    "        print('table :',table)\n",
    "        calumns= '(product_id, user_no, av_time, x1, y1, x2, y2, x3, y3, x4, y4, x5, y5, x6, y6, x7, y7, x8, y8, x9, y9, x10, y10, X11,\\\n",
    "y11, x12, y12, x13, y13, x14, y14, x15, y15, x16, y16, x17, y17, x18, y18, x19, y19, x20, y20, x21, y21, x22, y22, x23, y23,\\\n",
    "x24, y24, x25, y25, x26, y26, x27, y27, x28, y28, x29, y29, x30, y30, t, label)'\n",
    "        print('calumns :',calumns)\n",
    "        values = f'(\"productID\", \"1\", now(), {int(x1)}, {int(y1)}, {int(x2)}, {int(y2)}, {int(x3)}, {int(y3)}, {int(x4)}, {int(y4)},\\\n",
    "{int(x5)}, {int(y5)}, {int(x6)}, {int(y6)}, {int(x7)}, {int(y7)}, {int(x8)}, {int(y8)}, {int(x9)}, {int(y9)}, {int(x10)},\\\n",
    "{int(y10)}, {int(x11)}, {int(y11)}, {int(x12)}, {int(y12)}, {int(x13)}, {int(y13)}, {int(x14)}, {int(y14)}, {int(x15)},\\\n",
    "{int(y15)}, {int(x16)}, {int(y16)}, {int(x17)}, {int(y17)}, {int(x18)}, {int(y18)}, {int(x19)}, {int(y19)}, {int(x20)},\\\n",
    "{int(y20)}, {int(x21)}, {int(y21)}, {int(x22)}, {int(y22)}, {int(x23)}, {int(y23)}, {int(x24)}, {int(y24)}, {int(x25)},\\\n",
    "{int(y25)}, {int(x26)}, {int(y26)}, {int(x27)}, {int(y27)}, {int(x28)}, {int(y28)}, {int(x29)}, {int(y29)}, {int(x30)},\\\n",
    "{int(y30)}, {t}, {label})'\n",
    "        print('values :',values)\n",
    "        sql=insert_db(table, calumns, values)\n",
    "        print(sql)\n",
    "        return \"value of MPU6050 is done\"\n",
    "    else:\n",
    "        return read\n",
    "\n",
    "\n",
    "if __name__ == '__main__':\n",
    "    app.run(host='127.0.0.1', port=5000)"
   ]
  },
  {
   "attachments": {},
   "cell_type": "markdown",
   "id": "adf2bd3f",
   "metadata": {},
   "source": [
    "점검 코드\n",
    "- http://127.0.0.1:5000/insert/mpu?x1=200&y1=100&x2=200&y2=100&x3=200&y3=100&x4=200&y4=100&x5=200&y5=100&x6=200&y6=100&x7=200&y7=100&x8=200&y8=100&x9=200&y9=100&x10=200&y10=100&x11=200&y11=100&x12=200&y12=100&x13=200&y13=100&x14=200&y14=100&x15=200&y15=100&x16=200&y16=100&x17=200&y17=100&x18=200&y18=100&x19=200&y19=100&x20=200&y20=100&x21=200&y21=100&x22=200&y22=100&x23=200&y23=100&x24=200&y24=100&x25=200&y25=100&x26=200&y26=100&x27=200&y27=100&x28=200&y28=100&x29=200&y29=100&x30=200&y30=100"
   ]
  }
 ],
 "metadata": {
  "kernelspec": {
   "display_name": "base",
   "language": "python",
   "name": "python3"
  },
  "language_info": {
   "codemirror_mode": {
    "name": "ipython",
    "version": 3
   },
   "file_extension": ".py",
   "mimetype": "text/x-python",
   "name": "python",
   "nbconvert_exporter": "python",
   "pygments_lexer": "ipython3",
   "version": "3.9.12"
  },
  "toc": {
   "base_numbering": 1,
   "nav_menu": {},
   "number_sections": true,
   "sideBar": true,
   "skip_h1_title": false,
   "title_cell": "Table of Contents",
   "title_sidebar": "Contents",
   "toc_cell": false,
   "toc_position": {},
   "toc_section_display": true,
   "toc_window_display": false
  },
  "vscode": {
   "interpreter": {
    "hash": "3dedc7685735bb014bff29989eebc9a8b8f0ba3f7269dd9d313c73ad8e4a351c"
   }
  }
 },
 "nbformat": 4,
 "nbformat_minor": 5
}

{
 "cells": [
  {
   "cell_type": "code",
   "execution_count": 1,
   "id": "e1028eb8",
   "metadata": {},
   "outputs": [
    {
     "name": "stdout",
     "output_type": "stream",
     "text": [
      "Requirement already satisfied: requests in /Users/choiyungyu/opt/anaconda3/lib/python3.9/site-packages (2.27.1)\n",
      "Requirement already satisfied: urllib3<1.27,>=1.21.1 in /Users/choiyungyu/opt/anaconda3/lib/python3.9/site-packages (from requests) (1.26.9)\n",
      "Requirement already satisfied: certifi>=2017.4.17 in /Users/choiyungyu/opt/anaconda3/lib/python3.9/site-packages (from requests) (2021.10.8)\n",
      "Requirement already satisfied: idna<4,>=2.5 in /Users/choiyungyu/opt/anaconda3/lib/python3.9/site-packages (from requests) (3.3)\n",
      "Requirement already satisfied: charset-normalizer~=2.0.0 in /Users/choiyungyu/opt/anaconda3/lib/python3.9/site-packages (from requests) (2.0.4)\n",
      "Requirement already satisfied: selenium in /Users/choiyungyu/opt/anaconda3/lib/python3.9/site-packages (4.3.0)\n",
      "Requirement already satisfied: trio~=0.17 in /Users/choiyungyu/opt/anaconda3/lib/python3.9/site-packages (from selenium) (0.21.0)\n",
      "Requirement already satisfied: trio-websocket~=0.9 in /Users/choiyungyu/opt/anaconda3/lib/python3.9/site-packages (from selenium) (0.9.2)\n",
      "Requirement already satisfied: urllib3[secure,socks]~=1.26 in /Users/choiyungyu/opt/anaconda3/lib/python3.9/site-packages (from selenium) (1.26.9)\n",
      "Requirement already satisfied: attrs>=19.2.0 in /Users/choiyungyu/opt/anaconda3/lib/python3.9/site-packages (from trio~=0.17->selenium) (21.4.0)\n",
      "Requirement already satisfied: sniffio in /Users/choiyungyu/opt/anaconda3/lib/python3.9/site-packages (from trio~=0.17->selenium) (1.2.0)\n",
      "Requirement already satisfied: idna in /Users/choiyungyu/opt/anaconda3/lib/python3.9/site-packages (from trio~=0.17->selenium) (3.3)\n",
      "Requirement already satisfied: outcome in /Users/choiyungyu/opt/anaconda3/lib/python3.9/site-packages (from trio~=0.17->selenium) (1.2.0)\n",
      "Requirement already satisfied: async-generator>=1.9 in /Users/choiyungyu/opt/anaconda3/lib/python3.9/site-packages (from trio~=0.17->selenium) (1.10)\n",
      "Requirement already satisfied: sortedcontainers in /Users/choiyungyu/opt/anaconda3/lib/python3.9/site-packages (from trio~=0.17->selenium) (2.4.0)\n",
      "Requirement already satisfied: wsproto>=0.14 in /Users/choiyungyu/opt/anaconda3/lib/python3.9/site-packages (from trio-websocket~=0.9->selenium) (1.1.0)\n",
      "Requirement already satisfied: certifi in /Users/choiyungyu/opt/anaconda3/lib/python3.9/site-packages (from urllib3[secure,socks]~=1.26->selenium) (2021.10.8)\n",
      "Requirement already satisfied: cryptography>=1.3.4 in /Users/choiyungyu/opt/anaconda3/lib/python3.9/site-packages (from urllib3[secure,socks]~=1.26->selenium) (3.4.8)\n",
      "Requirement already satisfied: pyOpenSSL>=0.14 in /Users/choiyungyu/opt/anaconda3/lib/python3.9/site-packages (from urllib3[secure,socks]~=1.26->selenium) (21.0.0)\n",
      "Requirement already satisfied: PySocks!=1.5.7,<2.0,>=1.5.6 in /Users/choiyungyu/opt/anaconda3/lib/python3.9/site-packages (from urllib3[secure,socks]~=1.26->selenium) (1.7.1)\n",
      "Requirement already satisfied: cffi>=1.12 in /Users/choiyungyu/opt/anaconda3/lib/python3.9/site-packages (from cryptography>=1.3.4->urllib3[secure,socks]~=1.26->selenium) (1.15.0)\n",
      "Requirement already satisfied: pycparser in /Users/choiyungyu/opt/anaconda3/lib/python3.9/site-packages (from cffi>=1.12->cryptography>=1.3.4->urllib3[secure,socks]~=1.26->selenium) (2.21)\n",
      "Requirement already satisfied: six>=1.5.2 in /Users/choiyungyu/opt/anaconda3/lib/python3.9/site-packages (from pyOpenSSL>=0.14->urllib3[secure,socks]~=1.26->selenium) (1.16.0)\n",
      "Requirement already satisfied: h11<1,>=0.9.0 in /Users/choiyungyu/opt/anaconda3/lib/python3.9/site-packages (from wsproto>=0.14->trio-websocket~=0.9->selenium) (0.13.0)\n",
      "Requirement already satisfied: pandas in /Users/choiyungyu/opt/anaconda3/lib/python3.9/site-packages (1.4.2)\n",
      "Requirement already satisfied: python-dateutil>=2.8.1 in /Users/choiyungyu/opt/anaconda3/lib/python3.9/site-packages (from pandas) (2.8.2)\n",
      "Requirement already satisfied: pytz>=2020.1 in /Users/choiyungyu/opt/anaconda3/lib/python3.9/site-packages (from pandas) (2021.3)\n",
      "Requirement already satisfied: numpy>=1.18.5 in /Users/choiyungyu/opt/anaconda3/lib/python3.9/site-packages (from pandas) (1.21.5)\n",
      "Requirement already satisfied: six>=1.5 in /Users/choiyungyu/opt/anaconda3/lib/python3.9/site-packages (from python-dateutil>=2.8.1->pandas) (1.16.0)\n",
      "Requirement already satisfied: numpy in /Users/choiyungyu/opt/anaconda3/lib/python3.9/site-packages (1.21.5)\n"
     ]
    }
   ],
   "source": [
    "#mac은 라이브러리 설치 해줘야함\n",
    "#!pip install requests\n",
    "#!pip install selenium\n",
    "#!pip install pandas\n",
    "#!pip install numpy\n",
    "\n",
    "import requests as req\n",
    "from selenium import webdriver as wb #브라우저\n",
    "from selenium.webdriver.common.keys import Keys #키보드\n",
    "from selenium.webdriver.common.by import By #태그 소환툴\n",
    "from bs4 import BeautifulSoup as bs\n",
    "import time\n",
    "from tqdm import tqdm\n",
    "import pandas as pd"
   ]
  },
  {
   "cell_type": "markdown",
   "id": "8374dd8d",
   "metadata": {},
   "source": [
    "1. selenium과 requests의 차이점\n",
    "- selenium은 사용자가 동작하는 것 처럼 시나리오를 통해 동작\n",
    "- request는 복잡한 http요청과 쿠키 헤더를 잘 처리 (endpoint만 알고 있으면 빠르게 요청하고 스크래핑 가능)\n",
    "- selenium은 javascript 컨트롤이 어느정도 가능하지만 requests는 DOM만 parsing 가능"
   ]
  },
  {
   "cell_type": "code",
   "execution_count": 3,
   "id": "5d095316",
   "metadata": {},
   "outputs": [
    {
     "name": "stderr",
     "output_type": "stream",
     "text": [
      "/var/folders/d0/hsqd9x956qgdv8tn9cts8vmc0000gn/T/ipykernel_13250/1558242017.py:1: DeprecationWarning: executable_path has been deprecated, please pass in a Service object\n",
      "  d = wb.Chrome(\"/Users/choiyungyu/Desktop/myNote/python/chromedriver\") #mac은 경로 적어줘야함\n"
     ]
    }
   ],
   "source": [
    "d = wb.Chrome(\"/Users/choiyungyu/Desktop/myNote/python/chromedriver\") #mac은 경로 적어줘야함\n",
    "d.get(\"https://rlp.kr/view.php?num=96200\") #주소 &연산자 까지 지우면 쌩주소임"
   ]
  },
  {
   "cell_type": "code",
   "execution_count": 10,
   "id": "ee35542e",
   "metadata": {},
   "outputs": [
    {
     "name": "stderr",
     "output_type": "stream",
     "text": [
      "100%|██████████| 7/7 [00:00<00:00, 46.75it/s]\n",
      "100%|██████████| 7/7 [00:00<00:00, 34.08it/s]\n",
      "100%|██████████| 7/7 [00:00<00:00, 42.70it/s]\n",
      "100%|██████████| 7/7 [00:00<00:00, 41.92it/s]\n",
      "100%|██████████| 7/7 [00:00<00:00, 42.70it/s]\n",
      "100%|██████████| 7/7 [00:00<00:00, 37.56it/s]\n",
      "100%|██████████| 7/7 [00:00<00:00, 42.77it/s]\n",
      "100%|██████████| 7/7 [00:00<00:00, 50.13it/s]\n",
      "100%|██████████| 7/7 [00:00<00:00, 40.42it/s]\n",
      "100%|██████████| 7/7 [00:00<00:00, 41.01it/s]\n",
      "100%|██████████| 7/7 [00:00<00:00, 42.19it/s]\n"
     ]
    },
    {
     "name": "stdout",
     "output_type": "stream",
     "text": [
      "에러\n"
     ]
    }
   ],
   "source": [
    "reviews = []\n",
    "\n",
    "try:\n",
    "    while True:\n",
    "        for i in tqdm(range(1,8)):\n",
    "            search = d.find_element(By.XPATH,f\"//*[@id=\\\"section_ajax_layer_2\\\"]/table/tbody/tr[{i}]/td/table[1]/tbody/tr/td[1]\")\n",
    "            soup = bs(search.text, \"lxml\")\n",
    "            reviews.append(soup.text)\n",
    "        d.find_element(By.CSS_SELECTOR,'#section_ajax_layer_2 > center > div.page_next_small.font_14.font_number').click()\n",
    "        #elements로 받으면 리스트로 받아져서 .click() 같은 메소드 쓸 수 없음\n",
    "        time.sleep(3)\n",
    "except:\n",
    "    print(\"에러\")\n"
   ]
  },
  {
   "cell_type": "code",
   "execution_count": 19,
   "id": "2cd39b1a",
   "metadata": {},
   "outputs": [],
   "source": [
    "#데이터 저장하기\n",
    "df = pd.DataFrame(reviews, columns=['review'])\n",
    "df.to_csv('/Users/choiyungyu/Desktop/project/tumble_naver_reviews.csv', encoding=\"utf-8-sig\")"
   ]
  }
 ],
 "metadata": {
  "kernelspec": {
   "display_name": "Python 3.9.12 ('base')",
   "language": "python",
   "name": "python3"
  },
  "language_info": {
   "codemirror_mode": {
    "name": "ipython",
    "version": 3
   },
   "file_extension": ".py",
   "mimetype": "text/x-python",
   "name": "python",
   "nbconvert_exporter": "python",
   "pygments_lexer": "ipython3",
   "version": "3.9.12"
  },
  "toc": {
   "base_numbering": 1,
   "nav_menu": {},
   "number_sections": true,
   "sideBar": true,
   "skip_h1_title": false,
   "title_cell": "Table of Contents",
   "title_sidebar": "Contents",
   "toc_cell": false,
   "toc_position": {},
   "toc_section_display": true,
   "toc_window_display": false
  },
  "vscode": {
   "interpreter": {
    "hash": "3dedc7685735bb014bff29989eebc9a8b8f0ba3f7269dd9d313c73ad8e4a351c"
   }
  }
 },
 "nbformat": 4,
 "nbformat_minor": 5
}
